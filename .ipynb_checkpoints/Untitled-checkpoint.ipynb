{
 "cells": [
  {
   "cell_type": "code",
   "execution_count": 22,
   "id": "51139b23-5b7e-49b1-bea3-5427ecaf34af",
   "metadata": {},
   "outputs": [],
   "source": [
    "import numpy as np\n",
    "arr = [1,2,3]\n",
    "arr = np.array([1,2,3])"
   ]
  },
  {
   "cell_type": "code",
   "execution_count": 23,
   "id": "3c03f5f5-b446-4002-9905-55d4e1116d46",
   "metadata": {},
   "outputs": [
    {
     "name": "stdout",
     "output_type": "stream",
     "text": [
      "[1 2 3]\n"
     ]
    }
   ],
   "source": [
    "print (arr)"
   ]
  },
  {
   "cell_type": "code",
   "execution_count": 24,
   "id": "79874df4-2853-41ed-a76d-eb7d25ce9b75",
   "metadata": {},
   "outputs": [
    {
     "name": "stdout",
     "output_type": "stream",
     "text": [
      "<class 'numpy.ndarray'>\n"
     ]
    }
   ],
   "source": [
    "print (type(arr))"
   ]
  },
  {
   "cell_type": "code",
   "execution_count": 25,
   "id": "301e1666-49cf-4b24-a0c5-a85eacaec626",
   "metadata": {},
   "outputs": [
    {
     "name": "stdout",
     "output_type": "stream",
     "text": [
      "1\n"
     ]
    }
   ],
   "source": [
    "print (arr[0])"
   ]
  },
  {
   "cell_type": "markdown",
   "id": "9e421230-690b-4c69-a0f1-65b6edd06446",
   "metadata": {},
   "source": [
    "# 0-Dimensional Array or scalar"
   ]
  },
  {
   "cell_type": "code",
   "execution_count": 26,
   "id": "27e109d8-e9a9-45cc-9380-5bca9a609efe",
   "metadata": {},
   "outputs": [
    {
     "name": "stdout",
     "output_type": "stream",
     "text": [
      "42\n"
     ]
    }
   ],
   "source": [
    "import numpy as np\n",
    "\n",
    "arr = np.array(42)\n",
    "\n",
    "print(arr)"
   ]
  },
  {
   "cell_type": "markdown",
   "id": "747bf217-c0cf-4b1d-8650-16eae02c2798",
   "metadata": {},
   "source": [
    "# 2-Dimensional Array"
   ]
  },
  {
   "cell_type": "code",
   "execution_count": 29,
   "id": "db881b8a-b6e2-4970-ae31-937fba1d0fa7",
   "metadata": {},
   "outputs": [],
   "source": [
    "a = np.array([\n",
    "    [1,2,3],\n",
    "    [4,5,6]\n",
    "])"
   ]
  },
  {
   "cell_type": "code",
   "execution_count": 30,
   "id": "8b6a5a24-3022-4fe1-9737-3b81a261f9e5",
   "metadata": {},
   "outputs": [
    {
     "name": "stdout",
     "output_type": "stream",
     "text": [
      "[[1 2 3]\n",
      " [4 5 6]]\n"
     ]
    }
   ],
   "source": [
    "print (a)"
   ]
  },
  {
   "cell_type": "code",
   "execution_count": 32,
   "id": "0dc0acaf-95a9-4935-b3b9-643dea07d4d7",
   "metadata": {},
   "outputs": [
    {
     "name": "stdout",
     "output_type": "stream",
     "text": [
      "2\n"
     ]
    }
   ],
   "source": [
    "print (a.ndim) # ndim is attribute for finding out the dimension of the ndarray"
   ]
  },
  {
   "cell_type": "markdown",
   "id": "b389abeb-98b8-4b53-8d55-4c5a12bcb777",
   "metadata": {},
   "source": [
    "# 3-Dimensional Array"
   ]
  },
  {
   "cell_type": "code",
   "execution_count": 33,
   "id": "3a8916d3-3849-42b2-8524-cb1e1bfa82ef",
   "metadata": {},
   "outputs": [],
   "source": [
    "b = np.array([\n",
    "    [1,2,3],\n",
    "    [4,5,6],\n",
    "    [7,8,9]\n",
    "])"
   ]
  },
  {
   "cell_type": "code",
   "execution_count": 35,
   "id": "e62a0e1c-bc14-4241-a075-76628a34ee6e",
   "metadata": {},
   "outputs": [
    {
     "name": "stdout",
     "output_type": "stream",
     "text": [
      "2\n"
     ]
    },
    {
     "data": {
      "text/plain": [
       "(None, (3, 3), 9)"
      ]
     },
     "execution_count": 35,
     "metadata": {},
     "output_type": "execute_result"
    }
   ],
   "source": [
    "print (b.ndim),(b.shape),(b.size)"
   ]
  },
  {
   "cell_type": "code",
   "execution_count": null,
   "id": "f51e5cd3-cfb7-4a95-8f61-7776404b4e35",
   "metadata": {},
   "outputs": [],
   "source": []
  }
 ],
 "metadata": {
  "kernelspec": {
   "display_name": "Python 3 (ipykernel)",
   "language": "python",
   "name": "python3"
  },
  "language_info": {
   "codemirror_mode": {
    "name": "ipython",
    "version": 3
   },
   "file_extension": ".py",
   "mimetype": "text/x-python",
   "name": "python",
   "nbconvert_exporter": "python",
   "pygments_lexer": "ipython3",
   "version": "3.13.5"
  }
 },
 "nbformat": 4,
 "nbformat_minor": 5
}
